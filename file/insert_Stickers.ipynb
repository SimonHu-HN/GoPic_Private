{
 "cells": [
  {
   "cell_type": "code",
   "execution_count": null,
   "metadata": {
    "collapsed": true
   },
   "outputs": [],
   "source": [
    "import os\n",
    "import pyautogui # 自动按键\n",
    "import pyperclip # 操作剪贴板\n",
    "from tqdm import tqdm_notebook # 进度条"
   ]
  },
  {
   "cell_type": "code",
   "execution_count": null,
   "metadata": {
    "collapsed": true
   },
   "outputs": [],
   "source": [
    "pyautogui.PAUSE = 1 # 每次动作暂停 0.5 秒"
   ]
  },
  {
   "cell_type": "code",
   "execution_count": null,
   "metadata": {
    "collapsed": true
   },
   "outputs": [],
   "source": [
    "file_path = \"X:\\\\xxx\\\\\""
   ]
  },
  {
   "cell_type": "code",
   "execution_count": null,
   "metadata": {
    "collapsed": true
   },
   "outputs": [],
   "source": [
    "position_send_file = pyautogui.position() # 取坐标 发送文件按钮"
   ]
  },
  {
   "cell_type": "code",
   "execution_count": null,
   "metadata": {
    "collapsed": true
   },
   "outputs": [],
   "source": [
    "position_new_photo = pyautogui.position() # 取坐标 新发的图片"
   ]
  },
  {
   "cell_type": "code",
   "execution_count": null,
   "metadata": {
    "collapsed": true
   },
   "outputs": [],
   "source": [
    "position_add_emoji = pyautogui.position() # 取坐标 添加到表情"
   ]
  },
  {
   "cell_type": "code",
   "execution_count": null,
   "metadata": {
    "collapsed": true
   },
   "outputs": [],
   "source": [
    "file_name_list = os.listdir(file_path) # 所有的文件名"
   ]
  },
  {
   "cell_type": "code",
   "execution_count": null,
   "metadata": {
    "collapsed": true
   },
   "outputs": [],
   "source": [
    "for file_name in tqdm_notebook(file_name_list):\n",
    "    if file_name.endwith(\"gif\")==False:\n",
    "        print(\"error, please check \"+file_name)\n",
    "        continue\n",
    "    pyperclip.copy(file_path + file_name) # 文件名拷到剪贴板\n",
    "    pyautogui.click(position_send_file) # 发送文件\n",
    "    pyautogui.hotkey('ctrl', 'v') # 粘贴到文件框\n",
    "    pyautogui.hotkey('enter') # 打开\n",
    "    pyautogui.hotkey('enter') # 发送        \n",
    "    pyautogui.click(position_new_photo, button='right') # 右键新发的图片\n",
    "    pyautogui.click(position_add_emoji) # 添加到表情"
   ]
  }
 ],
 "metadata": {
  "anaconda-cloud": {},
  "kernelspec": {
   "display_name": "Python [default]",
   "language": "python",
   "name": "python3"
  },
  "language_info": {
   "codemirror_mode": {
    "name": "ipython",
    "version": 3
   },
   "file_extension": ".py",
   "mimetype": "text/x-python",
   "name": "python",
   "nbconvert_exporter": "python",
   "pygments_lexer": "ipython3",
   "version": "3.5.2"
  }
 },
 "nbformat": 4,
 "nbformat_minor": 1
}
